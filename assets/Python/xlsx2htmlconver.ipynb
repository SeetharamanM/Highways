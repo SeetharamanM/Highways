{
 "cells": [
  {
   "cell_type": "markdown",
   "id": "c6192b50",
   "metadata": {},
   "source": [
    "import pandas as pd\n",
    "\n",
    "df=pd.read_excel('Roads.xlsx', sheet_name='Road List')\n",
    "roads_html=df.to_html()\n",
    "with open('road list.html','w') as html_file:\n",
    "    html_file.write(roads_html)"
   ]
  },
  {
   "cell_type": "code",
   "execution_count": 10,
   "id": "24e03014",
   "metadata": {},
   "outputs": [],
   "source": [
    "import pandas as pd\n",
    "\n",
    "df=pd.read_excel('Work Particulars.xlsx', sheet_name='IRQP-Thummakundu')\n",
    "htmlfile=df.to_html()\n",
    "with open('IRQP1.html','w') as html_file:\n",
    "    html_file.write(htmlfile)"
   ]
  },
  {
   "cell_type": "code",
   "execution_count": null,
   "id": "a09df541",
   "metadata": {},
   "outputs": [],
   "source": []
  }
 ],
 "metadata": {
  "kernelspec": {
   "display_name": "Python 3 (ipykernel)",
   "language": "python",
   "name": "python3"
  },
  "language_info": {
   "codemirror_mode": {
    "name": "ipython",
    "version": 3
   },
   "file_extension": ".py",
   "mimetype": "text/x-python",
   "name": "python",
   "nbconvert_exporter": "python",
   "pygments_lexer": "ipython3",
   "version": "3.10.13"
  }
 },
 "nbformat": 4,
 "nbformat_minor": 5
}
